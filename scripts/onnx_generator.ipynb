{
 "cells": [
  {
   "cell_type": "code",
   "execution_count": 1,
   "metadata": {},
   "outputs": [],
   "source": [
    "#python.dataScience.textOutputLimit  = 0\n",
    "from onnx_generator import args\n",
    "# args.verbose = 0\n",
    "# args.header = [\"include/operators\"]\n",
    "# args.no_header = 0\n",
    "# args.check = [\"src/operators/check\"]\n",
    "# args.no_check = 0\n",
    "# args.resolve = [\"src/operators/resolve\"]\n",
    "# args.no_resolve = 0\n",
    "# args.sets = [\"src/operators/\"]\n",
    "# args.no_sets = 0\n",
    "# args.info_src = [\"src/operators/info\"]\n",
    "# args.no_info_src = 0\n",
    "# args.info_header = [\"include/operators/info\"]\n",
    "# args.no_info_header = 0\n",
    "# args.force = 0\n",
    "args.force = 1\n",
    "# args.dryrun = 0\n",
    "args.dryrun = 1\n",
    "# args.include = [\".*\"]\n",
    "# args.exclude = []\n",
    "# args.version = [\"all\"]\n",
    "# args.domains  = [\"all\"]\n",
    "# args.domains = ['onnx', 'ai.onnx.ml', 'ai.onnx.training']\n",
    "# args.path = []\n",
    "args.path = [\"/tmp/\"]"
   ]
  },
  {
   "cell_type": "code",
   "execution_count": 2,
   "metadata": {
    "tags": []
   },
   "outputs": [
    {
     "name": "stdout",
     "output_type": "stream",
     "text": [
      "selecting domains\n",
      "selecting onnx operator schema versions\n",
      "generating onnx operator headers\n",
      "generating onnx operator type resolvers\n",
      "generating onnx operator sanity checks\n",
      "generating onnx operator sets\n",
      "generating onnx operator info sources\n",
      "generating onnx operator info headers\n",
      "wrote 1621 of 1621 files\n"
     ]
    }
   ],
   "source": [
    "from onnx_generator import run"
   ]
  }
 ],
 "metadata": {
  "kernelspec": {
   "display_name": "Python 3",
   "language": "python",
   "name": "python3"
  },
  "language_info": {
   "codemirror_mode": {
    "name": "ipython",
    "version": 3
   },
   "file_extension": ".py",
   "mimetype": "text/x-python",
   "name": "python",
   "nbconvert_exporter": "python",
   "pygments_lexer": "ipython3",
   "version": "3.6.8"
  }
 },
 "nbformat": 4,
 "nbformat_minor": 4
}
